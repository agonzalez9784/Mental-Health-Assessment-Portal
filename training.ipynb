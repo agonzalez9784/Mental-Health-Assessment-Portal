{
 "cells": [
  {
   "cell_type": "markdown",
   "id": "a9f04b50-965f-44cb-bf4b-89508aa7c210",
   "metadata": {},
   "source": [
    "#### Mental Health Assessment Training\n",
    "\n",
    "##### Introduction\n",
    "More than 720,000 people die by suicide a year in the world and is one of the leading causes of death in the United States. The purpose of this program is to provide a portal/dashboard that allows moderators and staff to see users that may be at risk. And although there is no obligation for such things, being able to identify people who may need help may potentially lessen this statistic.\n",
    "\n",
    "##### Methodology\n",
    "We will train this model with diverse data that will give an assessment of a message using a Random Forest Classifier with the Scikit-Learn library. Tools used in this project will be scikit-learn. The model will be dumped with using `pickle`\n",
    "\n",
    "The data will be partitioned to 50% non-depressive texts and messages, 50% depressive and suicidal messages.\n",
    "\n",
    "###### Normal Data Sources\n",
    "twitter https://www.kaggle.com/datasets/yasserh/twitter-tweets-sentiment-dataset (source: yasserh 27,481)\n",
    "youtube comments https://www.kaggle.com/datasets/atifaliak/youtube-comments-dataset (source: atifaliak 17,872)\n",
    "twitter https://www.kaggle.com/datasets/gargmanas/sentimental-analysis-for-tweets (source: 10,282)\n",
    "twitter https://www.kaggle.com/datasets/durgeshrao9993/twitter-analysis-dataset-2022 (source: 29,350)\n",
    "uber https://www.kaggle.com/datasets/kanchana1990/uber-customer-reviews-dataset-2024 (source: 12,000)\n",
    "\n",
    "Total Rows 96,985\n",
    "###### Depression Data\n",
    "\n",
    "r/depression data from reddit: https://www.kaggle.com/datasets/infamouscoder/depression-reddit-cleaned (source: Infamous Coder 7,650)\n",
    "r/depression and r/suicidewatch data from reddit: https://www.kaggle.com/datasets/nikhileswarkomati/suicide-watch (Source: Nikhileswar Komati 232,074)\n",
    "\n",
    "Total Rows (will transform to 96,985)\n",
    "\n",
    "###### TOTAL ROWS 193,970"
   ]
  }
 ],
 "metadata": {
  "kernelspec": {
   "display_name": "Python 3 (ipykernel)",
   "language": "python",
   "name": "python3"
  },
  "language_info": {
   "codemirror_mode": {
    "name": "ipython",
    "version": 3
   },
   "file_extension": ".py",
   "mimetype": "text/x-python",
   "name": "python",
   "nbconvert_exporter": "python",
   "pygments_lexer": "ipython3",
   "version": "3.12.3"
  }
 },
 "nbformat": 4,
 "nbformat_minor": 5
}
